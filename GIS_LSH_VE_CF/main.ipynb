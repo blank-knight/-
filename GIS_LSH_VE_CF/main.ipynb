{
 "cells": [
  {
   "attachments": {},
   "cell_type": "markdown",
   "metadata": {},
   "source": [
    "## 导入包和数据"
   ]
  },
  {
   "cell_type": "code",
   "execution_count": 3,
   "metadata": {},
   "outputs": [],
   "source": [
    "from VE_LSH import LSH\n",
    "from CF import CF\n",
    "from vector_encrypt import vector_encrypt\n",
    "import pandas as pd\n",
    "import numpy as np\n",
    "import matplotlib.pyplot as plt\n",
    "import time\n",
    "from laplace_dp import laplace_dp\n",
    "plt.rcParams['font.sans-serif']=['SimHei'] #用来正常显示中文标签\n",
    "plt.rcParams['axes.unicode_minus']=False #用来正常显示负号\n",
    "\n",
    "original_data = pd.read_table('../GIS_LSH_VE_CF/data/train.csv',sep=\",\",names=['latitude','longitude'],encoding='latin-1',engine='python')\n",
    "user_mx = pd.read_table('../GIS_LSH_VE_CF/data/user_mx.csv',sep=\",\",names=['latitude','longitude'],encoding='latin-1',engine='python')\n",
    "test_data = pd.read_table('../GIS_LSH_VE_CF/data/new_test.csv',sep=\",\",names=['latitude','longitude'],encoding='latin-1',engine='python')\n",
    "attack_data = pd.read_table('../GIS_LSH_VE_CF/data/attack_data.csv',sep=\",\",names=['latitude','longitude'],encoding='latin-1',engine='python')\n",
    "noisy_user_mx = pd.read_table('../GIS_LSH_VE_CF/data/noisy_data_user_mx.csv',sep=\",\",names=['latitude','longitude'],encoding='latin-1',engine='python')\n",
    "data = test_data.groupby(test_data.index).mean()\n",
    "# data['predict_latitude'],data['predict_longitude'],data['la_MAE'],data['long_MAE'] = 0,0,0,0\n",
    "# data = pd.read_table('./GIS_LSH_VE_CF/data/predict_data.csv',sep=\",\",names=['latitude','longitude','predict_latitude','predict_longitude','la_MAE','long_MAE'],encoding='latin-1',engine='python')\n",
    "# print(data)\n",
    "# 对用户矩阵进行预处理，将str转换为list\n",
    "def to_list(str):\n",
    "    return [ float(x) for x in str[1:-2].split(',')]\n",
    "user_mx['latitude'] = user_mx['latitude'].apply(to_list)\n",
    "user_mx['longitude'] = user_mx['longitude'].apply(to_list)\n",
    "noisy_user_mx['latitude'] = noisy_user_mx['latitude'].apply(to_list)\n",
    "noisy_user_mx['longitude'] = noisy_user_mx['longitude'].apply(to_list)"
   ]
  },
  {
   "attachments": {},
   "cell_type": "markdown",
   "metadata": {},
   "source": [
    "## 训练函数"
   ]
  },
  {
   "cell_type": "code",
   "execution_count": 4,
   "metadata": {},
   "outputs": [],
   "source": [
    "def train_LSH(test_data,te_lshTable,lshTable,dp_lsh=False,is_laplace = False,is_pailiier=False): \n",
    "    global data,lsh_cal\n",
    "    testIndex = test_data.index\n",
    "    topk,count,length,num = 3,0,len(testIndex),-1\n",
    "    # print(\"测试集LSH为:\",lsh_cal.lsh_detect(te_lshTable))\n",
    "    # print(\"训练集集LSH为:\",lsh_cal.lsh_detect(lshTable))\n",
    "    start_time = time.time()\n",
    "    for table_num in te_lshTable.values(): # 遍历测试集的每个表,这里默认设置的一个表\n",
    "        num += 1\n",
    "        print(\"当前表数为:\",num)\n",
    "        for buckets in table_num: # 遍历当前表的hash桶\n",
    "            if buckets not in lshTable[num].keys():\n",
    "                    continue\n",
    "            for test_id in te_lshTable[num][buckets]: # 遍历当前表当前桶里的测试集用户和训练集用户\n",
    "                count += 1\n",
    "                #print(\"当前进度是:\",count/length)\n",
    "                sim_lis = []\n",
    "                \n",
    "                for train_id in lshTable[num][buckets]: # 遍历训练集hash映射后同一个表，同一个桶下的数据\n",
    "                    sim_lis.append(lsh_cal.calSim(test_id,train_id,is_laplace,is_pailiier))\n",
    "                te = sorted(sim_lis,key=lambda x:x[1],reverse=True)[2:topk]\n",
    "                lsh_cal.lsh_mae(test_id,te)\n",
    "    end_time = time.time()\n",
    "    la_mae,long_mae = data['la_MAE'].mean(),data['long_MAE'].mean()\n",
    "    if(dp_lsh):\n",
    "        mean_mae = (la_mae+long_mae)/2 + np.random.laplace(0, 1/10, 1)\n",
    "    else:\n",
    "         mean_mae = (la_mae+long_mae)/2\n",
    "    print('测试集long_mae为{0},测试集la_mae为{1},测试集mean_mae为{2}'.format(long_mae,la_mae,mean_mae))\n",
    "    return mean_mae,end_time-start_time"
   ]
  },
  {
   "cell_type": "code",
   "execution_count": 5,
   "metadata": {},
   "outputs": [],
   "source": [
    "def train_CF(train_data,test_data):\n",
    "    global data,cf_cal\n",
    "    trainIndex,testIndex,topk,count = train_data.index,test_data.index,3,0\n",
    "    length = len(testIndex)\n",
    "    start_time = time.time()\n",
    "    for i in testIndex:\n",
    "        count += 1\n",
    "        #print(\"当前进度是:\",count/length)\n",
    "        sim_lis = []\n",
    "        for j in trainIndex:\n",
    "            if i == j:\n",
    "                continue\n",
    "            sim_lis.append(cf_cal.calSim(i,j))\n",
    "        te = sorted(sim_lis,key=lambda x:x[1],reverse=True)[1:topk]\n",
    "        cf_cal.cf_mae(i,te)\n",
    "    end_time = time.time()\n",
    "    la_mae,long_mae = data['la_MAE'].mean(),data['long_MAE'].mean()\n",
    "    mean_mae = (la_mae+long_mae)/2\n",
    "    print('测试集long_mae为{0},测试集la_mae为{1},测试集mean_mae为{2}'.format(long_mae,la_mae,mean_mae))\n",
    "    return mean_mae,end_time-start_time"
   ]
  },
  {
   "cell_type": "code",
   "execution_count": 6,
   "metadata": {},
   "outputs": [],
   "source": [
    "def train_encrypt_LSH(test_data,te_lshTable,lshTable):\n",
    "    global data,lsh_cal\n",
    "    testIndex = test_data.index\n",
    "    topk,count,length,num = 3,0,len(testIndex),-1\n",
    "    # print(\"测试集LSH为:\",lsh_cal.lsh_detect(te_lshTable))\n",
    "    # print(\"训练集集LSH为:\",lsh_cal.lsh_detect(lshTable))\n",
    "    res_time = 0\n",
    "    start_time = time.time()\n",
    "    for table_num in te_lshTable.values(): # 遍历测试集的每个表,这里默认设置的一个表\n",
    "        num += 1\n",
    "        print(\"当前表数为:\",num)\n",
    "        for buckets in table_num: # 遍历当前表的hash桶\n",
    "            if buckets not in lshTable[num].keys():\n",
    "                    continue\n",
    "            for test_id in te_lshTable[num][buckets]: # 遍历当前表当前桶里的测试集用户和训练集用户\n",
    "                count += 1\n",
    "                #print(\"当前进度是:\",count/length)\n",
    "                sim_lis = []\n",
    "                end_time = time.time()\n",
    "                res_time += end_time-start_time\n",
    "                for train_id in lshTable[num][buckets]: # 遍历训练集hash映射后同一个表，同一个桶下的数据\n",
    "                    sim_res,time_count = lsh_cal.encrypt_calSim(test_id,train_id)\n",
    "                    res_time += time_count\n",
    "                    sim_lis.append(sim_res)\n",
    "                start_time = time.time()\n",
    "                te = sorted(sim_lis,key=lambda x:x[1],reverse=True)[2:topk]\n",
    "                lsh_cal.lsh_mae(test_id,te)\n",
    "                end_time = time.time()\n",
    "                res_time += end_time-start_time\n",
    "    la_mae,long_mae = data['la_MAE'].mean(),data['long_MAE'].mean()\n",
    "    mean_mae = (la_mae+long_mae)/2\n",
    "    print('测试集long_mae为{0},测试集la_mae为{1},测试集mean_mae为{2}'.format(long_mae,la_mae,mean_mae))\n",
    "    return mean_mae,res_time"
   ]
  },
  {
   "attachments": {},
   "cell_type": "markdown",
   "metadata": {},
   "source": [
    "# 隐私保护性能对比"
   ]
  },
  {
   "attachments": {},
   "cell_type": "markdown",
   "metadata": {},
   "source": [
    "## 参数和实例化"
   ]
  },
  {
   "cell_type": "code",
   "execution_count": 7,
   "metadata": {},
   "outputs": [],
   "source": [
    "data_item = [10000]\n",
    "attack_data_item = [1000,2000,3000,4000,5000]\n",
    "# 参数设置\n",
    "mae,times = [],[]\n",
    "nbits,num,d = 20,2,2\n",
    "# 实例化\n",
    "vec_encrypt = vector_encrypt()\n",
    "laplaceDP = laplace_dp()\n",
    "lsh_cal = LSH(noisy_user_mx,data,vec_encrypt,laplaceDP)\n",
    "cf_cal = CF(noisy_user_mx,data)\n",
    "times = {}\n",
    "bits_dic = {}\n",
    "hash_func = lsh_cal.hash_function(num,nbits,d) # hash映射函数\n",
    "for i in range(4):\n",
    "    bits_dic[i],times[i] = [],[]"
   ]
  },
  {
   "attachments": {},
   "cell_type": "markdown",
   "metadata": {},
   "source": [
    "## Pailler_LSH"
   ]
  },
  {
   "cell_type": "code",
   "execution_count": null,
   "metadata": {},
   "outputs": [],
   "source": [
    "data['predict_latitude'],data['predict_longitude'],data['la_MAE'],data['long_MAE'] = 0,0,data['latitude'],data['longitude'].abs()\n",
    "start,total_time = 0, 0\n",
    "for i in attack_data_item:\n",
    "    print(\"当前数据切片是:\",i)\n",
    "    df1 = original_data.iloc[i:10000]\n",
    "    df2 = attack_data.iloc[0:i]\n",
    "    train_data = pd.concat([df1,df2]) # 拼接恶意数据\n",
    "    cf_mean_mae,cf_time = train_CF(train_data,test_data)\n",
    "    total_time += cf_time\n",
    "    bits_dic[0].append(cf_mean_mae),times[0].append(total_time)"
   ]
  },
  {
   "attachments": {},
   "cell_type": "markdown",
   "metadata": {},
   "source": [
    "## LDP_LSH"
   ]
  },
  {
   "cell_type": "code",
   "execution_count": null,
   "metadata": {},
   "outputs": [
    {
     "name": "stdout",
     "output_type": "stream",
     "text": [
      "当前数据切片是: 1000\n",
      "当前表数为: 0\n",
      "当前表数为: 1\n",
      "测试集long_mae为14.036087378419504,测试集la_mae为5.7017482207785,测试集mean_mae为9.868917799599002\n",
      "当前数据切片是: 2000\n",
      "当前表数为: 0\n",
      "当前表数为: 1\n",
      "测试集long_mae为21.255492468629498,测试集la_mae为5.662689504179,测试集mean_mae为13.459090986404249\n",
      "当前数据切片是: 3000\n",
      "当前表数为: 0\n",
      "当前表数为: 1\n",
      "测试集long_mae为20.3923908682955,测试集la_mae为6.1184432867369996,测试集mean_mae为13.255417077516249\n",
      "当前数据切片是: 4000\n",
      "当前表数为: 0\n",
      "当前表数为: 1\n",
      "测试集long_mae为19.161055868295502,测试集la_mae为6.371084402027,测试集mean_mae为12.76607013516125\n",
      "当前数据切片是: 5000\n",
      "当前表数为: 0\n",
      "当前表数为: 1\n",
      "测试集long_mae为20.6358074686295,测试集la_mae为6.587593151100998,测试集mean_mae为13.611700309865249\n"
     ]
    }
   ],
   "source": [
    "data['predict_latitude'],data['predict_longitude'],data['la_MAE'],data['long_MAE'] = 0,0,data['latitude'],data['longitude'].abs()\n",
    "start,total_time = 0,0\n",
    "for i in attack_data_item:\n",
    "    print(\"当前数据切片是:\",i)\n",
    "    df1 = original_data.iloc[i:2000]\n",
    "    df2 = attack_data[0:i]\n",
    "    train_data = pd.concat([df1,df2])\n",
    "    lshTable = lsh_cal.lsh_table(train_data,hash_func,nbits,num) # 构建hash表\n",
    "    te_lshTable = lsh_cal.lsh_table(test_data,hash_func,nbits,num)\n",
    "\n",
    "    lsh_mae,lsh_time = train_LSH(train_data,te_lshTable,lshTable,False,True)\n",
    "    total_time += lsh_time\n",
    "    bits_dic[1].append(lsh_mae),times[1].append(total_time)"
   ]
  },
  {
   "attachments": {},
   "cell_type": "markdown",
   "metadata": {},
   "source": [
    "## DP_LSH"
   ]
  },
  {
   "cell_type": "code",
   "execution_count": null,
   "metadata": {},
   "outputs": [
    {
     "name": "stdout",
     "output_type": "stream",
     "text": [
      "当前数据切片是: 1000\n",
      "当前表数为: 0\n",
      "当前表数为: 1\n",
      "测试集long_mae为3.9616824385864984,测试集la_mae为1.2685340001145,测试集mean_mae为[2.75101789]\n",
      "当前数据切片是: 2000\n",
      "当前表数为: 0\n",
      "当前表数为: 1\n",
      "测试集long_mae为3.6030532616799986,测试集la_mae为1.2057214999794998,测试集mean_mae为[2.356769]\n",
      "当前数据切片是: 3000\n",
      "当前表数为: 0\n",
      "当前表数为: 1\n",
      "测试集long_mae为3.6030532616799986,测试集la_mae为1.2057214999794998,测试集mean_mae为[2.28968741]\n",
      "当前数据切片是: 4000\n",
      "当前表数为: 0\n",
      "当前表数为: 1\n",
      "测试集long_mae为3.6030532616799986,测试集la_mae为1.2057214999794998,测试集mean_mae为[2.3486694]\n",
      "当前数据切片是: 5000\n",
      "当前表数为: 0\n",
      "当前表数为: 1\n",
      "测试集long_mae为3.6030532616799986,测试集la_mae为1.2057214999794998,测试集mean_mae为[2.33653388]\n"
     ]
    }
   ],
   "source": [
    "data['predict_latitude'],data['predict_longitude'],data['la_MAE'],data['long_MAE'] = 0,0,data['latitude'],data['longitude'].abs()\n",
    "start,total_time = 0,0\n",
    "for i in attack_data_item:\n",
    "    print(\"当前数据切片是:\",i)\n",
    "    df1 = original_data.iloc[i:2000]\n",
    "    df2 = attack_data[0:i]\n",
    "    train_data = pd.concat([df1,df2])\n",
    "    lshTable = lsh_cal.lsh_table(train_data,hash_func,nbits,num,True) # 构建hash表\n",
    "    te_lshTable = lsh_cal.lsh_table(test_data,hash_func,nbits,num)\n",
    "\n",
    "    lsh_mae,lsh_time = train_LSH(train_data,te_lshTable,lshTable,True,False)\n",
    "    total_time += lsh_time\n",
    "    bits_dic[2].append(lsh_mae),times[2].append(total_time)"
   ]
  },
  {
   "attachments": {},
   "cell_type": "markdown",
   "metadata": {},
   "source": [
    "## IVE_LSH"
   ]
  },
  {
   "cell_type": "code",
   "execution_count": null,
   "metadata": {},
   "outputs": [
    {
     "name": "stdout",
     "output_type": "stream",
     "text": [
      "当前数据切片是: 1000\n",
      "当前表数为: 0\n",
      "当前表数为: 1\n",
      "测试集long_mae为3.9616824385864993,测试集la_mae为1.2685340001144996,测试集mean_mae为2.6151082193504993\n",
      "当前数据切片是: 2000\n",
      "当前表数为: 0\n",
      "当前表数为: 1\n",
      "测试集long_mae为3.8625932616800003,测试集la_mae为1.2627470918244998,测试集mean_mae为2.56267017675225\n",
      "当前数据切片是: 3000\n",
      "当前表数为: 0\n",
      "当前表数为: 1\n",
      "测试集long_mae为3.535910002014,测试集la_mae为1.2556450171745,测试集mean_mae为2.39577750959425\n",
      "当前数据切片是: 4000\n",
      "当前表数为: 0\n",
      "当前表数为: 1\n",
      "测试集long_mae为3.535910002014,测试集la_mae为1.198638936338,测试集mean_mae为2.367274469176\n",
      "当前数据切片是: 5000\n",
      "当前表数为: 0\n",
      "当前表数为: 1\n",
      "测试集long_mae为3.535910002014,测试集la_mae为1.189902903858,测试集mean_mae为2.362906452936\n"
     ]
    }
   ],
   "source": [
    "data['predict_latitude'],data['predict_longitude'],data['la_MAE'],data['long_MAE'] = 0,0,data['latitude'],data['longitude'].abs()\n",
    "start,total_time = 0,0\n",
    "for i in attack_data_item:\n",
    "    print(\"当前数据切片是:\",i)\n",
    "    df1 = original_data.iloc[i:2000]\n",
    "    df2 = attack_data[0:i]\n",
    "    train_data = pd.concat([df1,df2])\n",
    "    lshTable = lsh_cal.lsh_table(train_data,hash_func,nbits,num) # 构建hash表\n",
    "    te_lshTable = lsh_cal.lsh_table(test_data,hash_func,nbits,num)\n",
    "\n",
    "    lsh_encrypt_mae,lsh_encrypt_time = train_encrypt_LSH(test_data,te_lshTable,lshTable)\n",
    "    total_time += lsh_encrypt_time\n",
    "    bits_dic[3].append(lsh_encrypt_mae),times[3].append(total_time)\n"
   ]
  },
  {
   "cell_type": "code",
   "execution_count": null,
   "metadata": {},
   "outputs": [
    {
     "name": "stdout",
     "output_type": "stream",
     "text": [
      "各个算法的误差为:{0: [5.56879908936469, 5.482257565940187, 5.378909471400462, 5.240299654215233, 4.878152217964743], 1: [9.868917799599002, 13.459090986404249, 13.255417077516249, 12.76607013516125, 13.611700309865249], 2: [array([2.71442573]), array([5.01256414]), array([4.5538412]), array([5.16990855]), array([4.29313258])], 3: [2.91873576706175, 5.14506876718725, 4.64570584055425, 4.904339167984249, 4.3894811548542485]}\n",
      "各个所用的时间为{0: [109.09479355812073, 223.68772530555725, 355.80136609077454, 535.0890393257141, 717.1240408420563], 1: [6.067997455596924, 6.396330833435059, 6.914762735366821, 7.562108516693115, 8.28861141204834], 2: [5.960101127624512, 6.199551343917847, 6.594921588897705, 7.129825830459595, 7.728243589401245], 3: [7.2431135177612305, 7.61117959022522, 8.12549877166748, 8.76524305343628, 9.639248371124268]}\n"
     ]
    }
   ],
   "source": [
    "print(\"各个算法的误差为:{0}\\n各个所用的时间为{1}\".format(bits_dic,times))"
   ]
  },
  {
   "cell_type": "code",
   "execution_count": null,
   "metadata": {},
   "outputs": [],
   "source": [
    "leg = []\n",
    "data_item = ['10%','20%','30%','40%','50%']\n",
    "leg.append(\"Paillier_CF\"),leg.append(\"LDP_LSH\"),leg.append(\"FRec_LSH\"),leg.append(\"IVE_LSH\")\n",
    "print(\"各个算法的误差为:{0}\\n各个所用的时间为{1}\".format(bits_dic,times))\n",
    "\n",
    "style = [\"*\",\"o\",\"^\",\"s\",\"X\",\"<\",\">\",\"p\",\"h\",\"1\",\"2\"]\n",
    "plt.figure(1 , figsize = (7 , 3) )\n",
    "for i in range(4):\n",
    "    plt.plot(data_item,bits_dic[i],color='k',marker=style[i],markersize=9,markerfacecolor='none')\n",
    "plt.xlabel(\"恶意数据占比\",fontsize=14),plt.ylabel(\"MAE\",fontsize=14),plt.legend(leg)\n",
    "fig=plt.gcf()\n",
    "fig.savefig('../GIS_LSH_VE_CF/bw_picture//attack_cmp_mae.jpg', bbox_inches='tight', pad_inches=0,dpi=500)\n",
    "\n",
    "plt.figure(2 , figsize = (7 , 3) )\n",
    "for i in range(4):\n",
    "    plt.plot(data_item,times[i],color='k',marker=style[i],markersize=9,markerfacecolor='none')\n",
    "plt.xlabel(\"恶意数据占比\",fontsize=14),plt.ylabel(\"时间\",fontsize=14),plt.legend(leg)\n",
    "fig=plt.gcf()\n",
    "fig.savefig('../GIS_LSH_VE_CF/bw_picture//attack_cmp_time.jpg',bbox_inches='tight', pad_inches=0,dpi=500)\n",
    "plt.show()"
   ]
  },
  {
   "cell_type": "code",
   "execution_count": null,
   "metadata": {},
   "outputs": [
    {
     "name": "stdout",
     "output_type": "stream",
     "text": [
      "各个算法的误差为:{0: [6.255818920201389, 6.068192853773357, 5.712800743332887, 5.24988997912535, 4.8929030738736925], 1: [5.184470749225724, 2.72528981120675, 1.7148116514201748, 1.2762809388913499, 0.9955994893514999], 2: [array([5.40186584]), array([4.67849389]), array([4.43627639]), array([4.09183503]), array([3.66839446])], 3: [5.6137829898908755, 5.1987597207619, 4.77426144812355, 4.34730416765655, 3.9694839137328497]}\n",
      "各个所用的时间为{0: [2004.5645380020142, 4028.8024406433105, 6072.816443681717, 8064.444778203964, 10025.005819797516], 1: [627.5705826282501, 1192.843421459198, 1736.0913791656494, 2212.7878003120422, 2639.875956296921], 2: [509.7284643650055, 963.6719717979431, 1374.0030553340912, 1747.7923092842102, 2054.6035828590393], 3: [621.3995916843414, 1184.1282932758331, 1700.0774335861206, 2154.1801013946533, 2536.650682926178]}\n"
     ]
    },
    {
     "data": {
      "image/png": "[encoded data removed]",
      "text/plain": [
       "<Figure size 1224x648 with 2 Axes>"
      ]
     },
     "metadata": {
      "needs_background": "light"
     },
     "output_type": "display_data"
    }
   ],
   "source": [
    "leg = []\n",
    "leg.append(\"Paillier_CF\"),leg.append(\"LDP_LSH\"),leg.append(\"FRec_LSH\"),leg.append(\"IVE_LSH\")\n",
    "print(\"各个算法的误差为:{0}\\n各个所用的时间为{1}\".format(bits_dic,times))\n",
    "\n",
    "style = [\"*\",\"o\",\"^\",\"s\",\"X\",\"<\",\">\",\"p\",\"h\",\"1\",\"2\"]\n",
    "plt.figure(1 , figsize = (17 , 9) )\n",
    "plt.subplot(121)\n",
    "for i in range(4):\n",
    "    plt.plot(data_item,bits_dic[i],marker=style[i],markersize=14)\n",
    "plt.xlabel(\"数据量\"),plt.ylabel(\"MAE\"),plt.title(\"Paillier_CF,LDP_LSH、FRecLSH和IVE_LSH\"),plt.legend(leg)\n",
    "\n",
    "plt.subplot(122)\n",
    "for i in range(4):\n",
    "    plt.plot(data_item,times[i],marker=style[i],markersize=14)\n",
    "plt.xlabel(\"数据量\"),plt.ylabel(\"时间\"),plt.title(\"Paillier_CF,LDP_LSH、FRecLSH和IVE_LSH\"),plt.legend(leg)\n",
    "fig=plt.gcf()\n",
    "fig.savefig('../GIS_LSH_VE_CF/picture//attack_cmp.jpg',dpi=500)\n",
    "plt.show()"
   ]
  },
  {
   "attachments": {},
   "cell_type": "markdown",
   "metadata": {},
   "source": [
    "# 推荐效果性能对比"
   ]
  },
  {
   "attachments": {},
   "cell_type": "markdown",
   "metadata": {},
   "source": [
    "## 参数和实例化"
   ]
  },
  {
   "cell_type": "code",
   "execution_count": null,
   "metadata": {},
   "outputs": [],
   "source": [
    "data_item = [2000,4000,6000,8000,10000]\n",
    "attack_data_item = [1000,2000,3000,4000,5000]\n",
    "# 参数设置\n",
    "mae,times = [],[]\n",
    "nbits,num,d = 20,2,2\n",
    "# 实例化\n",
    "vec_encrypt = vector_encrypt()\n",
    "laplaceDP = laplace_dp()\n",
    "lsh_cal = LSH(user_mx,data,vec_encrypt,laplaceDP)\n",
    "cf_cal = CF(user_mx,data)\n",
    "times = {}\n",
    "bits_dic = {}\n",
    "hash_func = lsh_cal.hash_function(num,nbits,d) # hash映射函数\n",
    "for i in range(5):\n",
    "    bits_dic[i],times[i] = [],[]"
   ]
  },
  {
   "attachments": {},
   "cell_type": "markdown",
   "metadata": {},
   "source": [
    "## Pailler_LSH"
   ]
  },
  {
   "cell_type": "code",
   "execution_count": null,
   "metadata": {},
   "outputs": [],
   "source": [
    "data['predict_latitude'],data['predict_longitude'],data['la_MAE'],data['long_MAE'] = 0,0,data['latitude'],data['longitude'].abs()\n",
    "start,total_time = 0,0\n",
    "for i in data_item:\n",
    "    print(\"当前数据切片是:\",i)\n",
    "    train_data = original_data.iloc[start:i]\n",
    "    lshTable = lsh_cal.lsh_table(train_data,hash_func,nbits,num) # 构建hash表\n",
    "    te_lshTable = lsh_cal.lsh_table(test_data,hash_func,nbits,num)\n",
    "\n",
    "    lsh_mae,lsh_time = train_LSH(train_data,te_lshTable,lshTable,False,False,True)\n",
    "    total_time += lsh_time\n",
    "    bits_dic[0].append(lsh_mae),times[0].append(total_time)\n",
    "    start = 0"
   ]
  },
  {
   "attachments": {},
   "cell_type": "markdown",
   "metadata": {},
   "source": [
    "## 加入laplace噪声LDPLSH"
   ]
  },
  {
   "cell_type": "code",
   "execution_count": null,
   "metadata": {},
   "outputs": [
    {
     "name": "stdout",
     "output_type": "stream",
     "text": [
      "当前数据切片是: 2000\n",
      "当前表数为: 0\n",
      "当前表数为: 1\n",
      "测试集long_mae为8.1975968110865,测试集la_mae为2.5509429934759997,测试集mean_mae为5.37426990228125\n",
      "当前数据切片是: 4000\n",
      "当前表数为: 0\n",
      "当前表数为: 1\n",
      "测试集long_mae为4.227336641780002,测试集la_mae为1.2672611038100003,测试集mean_mae为2.747298872795001\n",
      "当前数据切片是: 6000\n",
      "当前表数为: 0\n",
      "当前表数为: 1\n",
      "测试集long_mae为2.7281463124145016,测试集la_mae为0.8606466250935004,测试集mean_mae为1.794396468754001\n",
      "当前数据切片是: 8000\n",
      "当前表数为: 0\n",
      "当前表数为: 1\n",
      "测试集long_mae为2.0641143462760017,测试集la_mae为0.681687955219,测试集mean_mae为1.3729011507475009\n",
      "当前数据切片是: 10000\n",
      "当前表数为: 0\n",
      "当前表数为: 1\n",
      "测试集long_mae为1.621973697604001,测试集la_mae为0.5475665154930001,测试集mean_mae为1.0847701065485005\n"
     ]
    }
   ],
   "source": [
    "data['predict_latitude'],data['predict_longitude'],data['la_MAE'],data['long_MAE'] = 0,0,data['latitude'],data['longitude'].abs()\n",
    "start,total_time = 0,0\n",
    "for i in data_item:\n",
    "    print(\"当前数据切片是:\",i)\n",
    "    train_data = original_data.iloc[start:i]\n",
    "    lshTable = lsh_cal.lsh_table(train_data,hash_func,nbits,num) # 构建hash表\n",
    "    te_lshTable = lsh_cal.lsh_table(test_data,hash_func,nbits,num)\n",
    "\n",
    "    lsh_mae,lsh_time = train_LSH(train_data,te_lshTable,lshTable,False,True)\n",
    "    total_time += lsh_time\n",
    "    bits_dic[1].append(lsh_mae),times[1].append(total_time)\n",
    "    start = 0"
   ]
  },
  {
   "attachments": {},
   "cell_type": "markdown",
   "metadata": {},
   "source": [
    "## DP_LSH"
   ]
  },
  {
   "cell_type": "code",
   "execution_count": null,
   "metadata": {},
   "outputs": [],
   "source": [
    "data['predict_latitude'],data['predict_longitude'],data['la_MAE'],data['long_MAE'] = 0,0,data['latitude'],data['longitude'].abs()\n",
    "start,total_time = 0,0\n",
    "for i in data_item:\n",
    "    print(\"当前数据切片是:\",i)\n",
    "    train_data = original_data.iloc[start:i]\n",
    "    lshTable = lsh_cal.lsh_table(train_data,hash_func,nbits,num,True) # 构建hash表\n",
    "    te_lshTable = lsh_cal.lsh_table(test_data,hash_func,nbits,num)\n",
    "\n",
    "    lsh_mae,lsh_time = train_LSH(train_data,te_lshTable,lshTable,True,False)\n",
    "    total_time += lsh_time\n",
    "    bits_dic[2].append(lsh_mae),times[2].append(total_time)\n",
    "    start = 0"
   ]
  },
  {
   "attachments": {},
   "cell_type": "markdown",
   "metadata": {},
   "source": [
    "## LSH"
   ]
  },
  {
   "cell_type": "code",
   "execution_count": null,
   "metadata": {},
   "outputs": [
    {
     "name": "stdout",
     "output_type": "stream",
     "text": [
      "当前数据切片是: 2000\n",
      "当前表数为: 0\n",
      "当前表数为: 1\n",
      "测试集long_mae为3.238755866682498,测试集la_mae为1.5158812750790003,测试集mean_mae为[2.20951006]\n",
      "当前数据切片是: 4000\n",
      "当前表数为: 0\n",
      "当前表数为: 1\n",
      "测试集long_mae为3.6018015728179984,测试集la_mae为1.8833439232185003,测试集mean_mae为[2.71740851]\n",
      "当前数据切片是: 6000\n",
      "当前表数为: 0\n",
      "当前表数为: 1\n",
      "测试集long_mae为5.6434879858525,测试集la_mae为2.6152091586099995,测试集mean_mae为[4.16912941]\n",
      "当前数据切片是: 8000\n",
      "当前表数为: 0\n",
      "当前表数为: 1\n",
      "测试集long_mae为4.597243807345501,测试集la_mae为2.1573339788239996,测试集mean_mae为[3.40411053]\n",
      "当前数据切片是: 10000\n",
      "当前表数为: 0\n",
      "当前表数为: 1\n",
      "测试集long_mae为4.459685702815002,测试集la_mae为2.0135778412729994,测试集mean_mae为[3.32092577]\n"
     ]
    }
   ],
   "source": [
    "data['predict_latitude'],data['predict_longitude'],data['la_MAE'],data['long_MAE'] = 0,0,data['latitude'],data['longitude'].abs()\n",
    "start,total_time = 0,0\n",
    "for i in data_item:\n",
    "    print(\"当前数据切片是:\",i)\n",
    "    train_data = original_data.iloc[start:i]\n",
    "    lshTable = lsh_cal.lsh_table(train_data,hash_func,nbits,num) # 构建hash表\n",
    "    te_lshTable = lsh_cal.lsh_table(test_data,hash_func,nbits,num)\n",
    "\n",
    "    lsh_mae,lsh_time = train_LSH(train_data,te_lshTable,lshTable,True,False)\n",
    "    total_time += lsh_time\n",
    "    bits_dic[3].append(lsh_mae),times[3].append(total_time)\n",
    "    start = 0"
   ]
  },
  {
   "attachments": {},
   "cell_type": "markdown",
   "metadata": {},
   "source": [
    "## IVE_LSH"
   ]
  },
  {
   "cell_type": "code",
   "execution_count": null,
   "metadata": {},
   "outputs": [
    {
     "name": "stdout",
     "output_type": "stream",
     "text": [
      "当前数据切片是: 2000\n",
      "当前表数为: 0\n",
      "当前表数为: 1\n",
      "测试集long_mae为3.2387558666824985,测试集la_mae为1.5158812750790003,测试集mean_mae为2.3773185708807496\n",
      "当前数据切片是: 4000\n",
      "当前表数为: 0\n",
      "当前表数为: 1\n",
      "测试集long_mae为3.6018015728179984,测试集la_mae为1.8833439232185,测试集mean_mae为2.742572748018249\n",
      "当前数据切片是: 6000\n",
      "当前表数为: 0\n",
      "当前表数为: 1\n",
      "测试集long_mae为5.6436357812415,测试集la_mae为2.6151856422160007,测试集mean_mae为4.129410711728751\n",
      "当前数据切片是: 8000\n",
      "当前表数为: 0\n",
      "当前表数为: 1\n",
      "测试集long_mae为4.597243807345501,测试集la_mae为2.157333978824,测试集mean_mae为3.3772888930847507\n",
      "当前数据切片是: 10000\n",
      "当前表数为: 0\n",
      "当前表数为: 1\n",
      "测试集long_mae为4.459718812428002,测试集la_mae为2.0135680004845,测试集mean_mae为3.236643406456251\n"
     ]
    }
   ],
   "source": [
    "data['predict_latitude'],data['predict_longitude'],data['la_MAE'],data['long_MAE'] = 0,0,data['latitude'],data['longitude'].abs()\n",
    "start,total_time = 0,0\n",
    "for i in data_item:\n",
    "    print(\"当前数据切片是:\",i)\n",
    "    train_data = original_data.iloc[start:i]\n",
    "    lshTable = lsh_cal.lsh_table(train_data,hash_func,nbits,num) # 构建hash表\n",
    "    te_lshTable = lsh_cal.lsh_table(test_data,hash_func,nbits,num)\n",
    "\n",
    "    lsh_encrypt_mae,lsh_encrypt_time = train_encrypt_LSH(test_data,te_lshTable,lshTable)\n",
    "    total_time += lsh_encrypt_time\n",
    "    bits_dic[4].append(lsh_encrypt_mae),times[4].append(total_time)\n",
    "    start = 0\n"
   ]
  },
  {
   "cell_type": "code",
   "execution_count": null,
   "metadata": {},
   "outputs": [
    {
     "name": "stdout",
     "output_type": "stream",
     "text": [
      "各个算法的误差为:{0: [3.2340515302575232, 2.1555268101756493, 1.4143286523437713, 1.2754302844482155, 1.1788079897819674], 1: [7.604682872577749, 8.46549705312475, 6.047936261091, 7.51617689722525, 7.578935485745], 2: [array([2.200402]), array([2.72186045]), array([4.23943268]), array([3.61333815]), array([3.16939218])], 3: [array([2.20951006]), array([2.71740851]), array([4.16912941]), array([3.40411053]), array([3.32092577])], 4: [2.3773185708807496, 2.742572748018249, 4.129410711728751, 3.3772888930847507, 3.236643406456251]}\n",
      "各个所用的时间为{0: [24.267566204071045, 86.87246918678284, 180.4508924484253, 311.7095983028412, 461.65535163879395], 1: [4.598752975463867, 12.849329948425293, 25.822838306427002, 43.47468614578247, 64.43612813949585], 2: [3.534115791320801, 10.698094606399536, 21.260474681854248, 37.442036867141724, 57.49390721321106], 3: [4.740544080734253, 17.424986839294434, 37.79577302932739, 66.24986433982849, 101.44799613952637], 4: [5.208545207977295, 14.165765523910522, 28.39835214614868, 54.16485857963562, 84.34059000015259]}\n"
     ]
    }
   ],
   "source": [
    "print(\"各个算法的误差为:{0}\\n各个所用的时间为{1}\".format(bits_dic,times))"
   ]
  },
  {
   "cell_type": "code",
   "execution_count": null,
   "metadata": {},
   "outputs": [],
   "source": [
    "leg = []\n",
    "leg.append(\"Paillier_LSH\"),leg.append(\"LDP_LSH\"),leg.append(\"DP_LSH\"),leg.append(\"LSH\"),leg.append(\"IVE_LSH\")\n",
    "print(\"各个算法的误差为:{0}\\n各个所用的时间为{1}\".format(bits_dic,times))\n",
    "\n",
    "style = [\"*\",\"o\",\"^\",\"s\",\"X\",\"<\",\">\",\"p\",\"h\",\"1\",\"2\"]\n",
    "plt.figure(1 , figsize = (17 , 9) )\n",
    "plt.subplot(121)\n",
    "for i in range(5):\n",
    "    plt.plot(data_item,bits_dic[i],marker=style[i],markersize=14)\n",
    "plt.xlabel(\"数据量\"),plt.ylabel(\"MAE\"),plt.title(\"LDP_LSH、FRecLSH和LSH\"),plt.legend(leg)\n",
    "\n",
    "plt.subplot(122)\n",
    "for i in range(5):\n",
    "    plt.plot(data_item,times[i],marker=style[i],markersize=14)\n",
    "plt.xlabel(\"数据量\"),plt.ylabel(\"时间\"),plt.title(\"LDP_LSH、FRecLSH和LSH\"),plt.legend(leg)\n",
    "fig=plt.gcf()\n",
    "fig.savefig('../GIS_LSH_VE_CF/picture//CF_LSH_ELSH111.jpg',dpi=500)\n",
    "plt.show()"
   ]
  }
 ],
 "metadata": {
  "kernelspec": {
   "display_name": "Python 3.10.2 64-bit",
   "language": "python",
   "name": "python3"
  },
  "language_info": {
   "codemirror_mode": {
    "name": "ipython",
    "version": 3
   },
   "file_extension": ".py",
   "mimetype": "text/x-python",
   "name": "python",
   "nbconvert_exporter": "python",
   "pygments_lexer": "ipython3",
   "version": "3.10.2"
  },
  "orig_nbformat": 4,
  "vscode": {
   "interpreter": {
    "hash": "ca8ea726348f401b6163fd02c0aeb9cec7418c3ac87845e34ed5fb131bc4795a"
   }
  }
 },
 "nbformat": 4,
 "nbformat_minor": 2
}
