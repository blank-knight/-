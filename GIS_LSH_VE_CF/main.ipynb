{
 "cells": [
  {
   "cell_type": "markdown",
   "metadata": {},
   "source": [
    "## 导入包和数据"
   ]
  },
  {
   "cell_type": "code",
   "execution_count": 52,
   "metadata": {},
   "outputs": [],
   "source": [
    "from VE_LSH import LSH\n",
    "from CF import CF\n",
    "from vector_encrypt import vector_encrypt\n",
    "import pandas as pd\n",
    "import numpy as np\n",
    "import matplotlib.pyplot as plt\n",
    "import time\n",
    "plt.rcParams['font.sans-serif']=['SimHei'] #用来正常显示中文标签\n",
    "plt.rcParams['axes.unicode_minus']=False #用来正常显示负号\n",
    "\n",
    "original_data = pd.read_table('../GIS_LSH_VE_CF/data/train.csv',sep=\",\",names=['latitude','longitude'],encoding='latin-1',engine='python')\n",
    "user_mx = pd.read_table('../GIS_LSH_VE_CF/data/user_mx.csv',sep=\",\",names=['latitude','longitude'],encoding='latin-1',engine='python')\n",
    "test_data = pd.read_table('../GIS_LSH_VE_CF/data/test.csv',sep=\",\",names=['latitude','longitude'],encoding='latin-1',engine='python')\n",
    "data = test_data.groupby(test_data.index).mean()\n",
    "# data['predict_latitude'],data['predict_longitude'],data['la_MAE'],data['long_MAE'] = 0,0,0,0\n",
    "# data = pd.read_table('./GIS_LSH_VE_CF/data/predict_data.csv',sep=\",\",names=['latitude','longitude','predict_latitude','predict_longitude','la_MAE','long_MAE'],encoding='latin-1',engine='python')\n",
    "# print(data)\n",
    "# 对用户矩阵进行预处理，将str转换为list\n",
    "def to_list(str):\n",
    "    return [ float(x) for x in str[1:-2].split(',')]\n",
    "user_mx['latitude'] = user_mx['latitude'].apply(to_list)\n",
    "user_mx['longitude'] = user_mx['longitude'].apply(to_list)"
   ]
  },
  {
   "cell_type": "markdown",
   "metadata": {},
   "source": [
    "## 训练函数"
   ]
  },
  {
   "cell_type": "code",
   "execution_count": 53,
   "metadata": {},
   "outputs": [],
   "source": [
    "def train_CF(train_data,test_data):\n",
    "    global data,cf_cal\n",
    "    trainIndex,testIndex,topk,count = train_data.index,test_data.index,3,0\n",
    "    length = len(testIndex)\n",
    "    start_time = time.time()\n",
    "    for i in testIndex:\n",
    "        count += 1\n",
    "        #print(\"当前进度是:\",count/length)\n",
    "        sim_lis = []\n",
    "        for j in trainIndex:\n",
    "            if i == j:\n",
    "                continue\n",
    "            sim_lis.append(cf_cal.calSim(i,j))\n",
    "        te = sorted(sim_lis,key=lambda x:x[1],reverse=True)[1:topk]\n",
    "        cf_cal.cf_mae(i,te)\n",
    "    end_time = time.time()\n",
    "    la_mae,long_mae = data['la_MAE'].mean(),data['long_MAE'].mean()\n",
    "    mean_mae = (la_mae+long_mae)/2\n",
    "    print('测试集long_mae为{0},测试集la_mae为{1},测试集mean_mae为{2}'.format(long_mae,la_mae,mean_mae))\n",
    "    return mean_mae,end_time-start_time"
   ]
  },
  {
   "cell_type": "code",
   "execution_count": 54,
   "metadata": {},
   "outputs": [],
   "source": [
    "def train_LSH(test_data,te_lshTable,lshTable):\n",
    "    global data,lsh_cal\n",
    "    testIndex = test_data.index\n",
    "    topk,count,length,num = 3,0,len(testIndex),-1\n",
    "    # print(\"测试集LSH为:\",lsh_cal.lsh_detect(te_lshTable))\n",
    "    # print(\"训练集集LSH为:\",lsh_cal.lsh_detect(lshTable))\n",
    "    start_time = time.time()\n",
    "    for table_num in te_lshTable.values(): # 遍历测试集的每个表,这里默认设置的一个表\n",
    "        num += 1\n",
    "        print(\"当前表数为:\",num)\n",
    "        for buckets in table_num: # 遍历当前表的hash桶\n",
    "            if buckets not in lshTable[num].keys():\n",
    "                    continue\n",
    "            for test_id in te_lshTable[num][buckets]: # 遍历当前表当前桶里的测试集用户和训练集用户\n",
    "                count += 1\n",
    "                #print(\"当前进度是:\",count/length)\n",
    "                sim_lis = []\n",
    "                \n",
    "                for train_id in lshTable[num][buckets]: # 遍历训练集hash映射后同一个表，同一个桶下的数据\n",
    "                    sim_lis.append(lsh_cal.calSim(test_id,train_id))\n",
    "                te = sorted(sim_lis,key=lambda x:x[1],reverse=True)[2:topk]\n",
    "                lsh_cal.lsh_mae(test_id,te)\n",
    "    end_time = time.time()\n",
    "    la_mae,long_mae = data['la_MAE'].mean(),data['long_MAE'].mean()\n",
    "    mean_mae = (la_mae+long_mae)/2\n",
    "    print('测试集long_mae为{0},测试集la_mae为{1},测试集mean_mae为{2}'.format(long_mae,la_mae,mean_mae))\n",
    "    return mean_mae,end_time-start_time"
   ]
  },
  {
   "cell_type": "code",
   "execution_count": 55,
   "metadata": {},
   "outputs": [],
   "source": [
    "def train_encrypt_LSH(test_data,te_lshTable,lshTable):\n",
    "    global data,lsh_cal\n",
    "    testIndex = test_data.index\n",
    "    topk,count,length,num = 3,0,len(testIndex),-1\n",
    "    # print(\"测试集LSH为:\",lsh_cal.lsh_detect(te_lshTable))\n",
    "    # print(\"训练集集LSH为:\",lsh_cal.lsh_detect(lshTable))\n",
    "    res_time = 0\n",
    "    start_time = time.time()\n",
    "    for table_num in te_lshTable.values(): # 遍历测试集的每个表,这里默认设置的一个表\n",
    "        num += 1\n",
    "        print(\"当前表数为:\",num)\n",
    "        for buckets in table_num: # 遍历当前表的hash桶\n",
    "            if buckets not in lshTable[num].keys():\n",
    "                    continue\n",
    "            for test_id in te_lshTable[num][buckets]: # 遍历当前表当前桶里的测试集用户和训练集用户\n",
    "                count += 1\n",
    "                #print(\"当前进度是:\",count/length)\n",
    "                sim_lis = []\n",
    "                end_time = time.time()\n",
    "                res_time += end_time-start_time\n",
    "                for train_id in lshTable[num][buckets]: # 遍历训练集hash映射后同一个表，同一个桶下的数据\n",
    "                    sim_res,time_count = lsh_cal.encrypt_calSim(test_id,train_id)\n",
    "                    res_time += time_count\n",
    "                    sim_lis.append(sim_res)\n",
    "                start_time = time.time()\n",
    "                te = sorted(sim_lis,key=lambda x:x[1],reverse=True)[2:topk]\n",
    "                lsh_cal.lsh_mae(test_id,te)\n",
    "                end_time = time.time()\n",
    "                res_time += end_time-start_time\n",
    "    la_mae,long_mae = data['la_MAE'].mean(),data['long_MAE'].mean()\n",
    "    mean_mae = (la_mae+long_mae)/2\n",
    "    print('测试集long_mae为{0},测试集la_mae为{1},测试集mean_mae为{2}'.format(long_mae,la_mae,mean_mae))\n",
    "    return mean_mae,res_time"
   ]
  },
  {
   "cell_type": "markdown",
   "metadata": {},
   "source": [
    "## 参数和实例化"
   ]
  },
  {
   "cell_type": "code",
   "execution_count": 56,
   "metadata": {},
   "outputs": [],
   "source": [
    "data_item = [2000,4000,6000,8000,10000]\n",
    "# 参数设置\n",
    "mae,times = [],[]\n",
    "nbits,num,d = 20,2,2\n",
    "# 实例化\n",
    "vec_encrypt = vector_encrypt()\n",
    "lsh_cal = LSH(user_mx,data,vec_encrypt)\n",
    "cf_cal = CF(user_mx,data)\n",
    "times = {}\n",
    "bits_dic = {}\n",
    "for i in range(3):\n",
    "    bits_dic[i],times[i] = [],[]"
   ]
  },
  {
   "cell_type": "markdown",
   "metadata": {},
   "source": [
    "## 根据不同数据量进行比较"
   ]
  },
  {
   "cell_type": "markdown",
   "metadata": {},
   "source": [
    "### CF"
   ]
  },
  {
   "cell_type": "code",
   "execution_count": 57,
   "metadata": {},
   "outputs": [
    {
     "name": "stdout",
     "output_type": "stream",
     "text": [
      "当前数据切片是: 2000\n",
      "测试集long_mae为3.728709348156871,测试集la_mae为1.6613124390532001,测试集mean_mae为2.6950108936050357\n",
      "当前数据切片是: 4000\n",
      "测试集long_mae为2.577172250261786,测试集la_mae为1.085607702017516,测试集mean_mae为1.831389976139651\n",
      "当前数据切片是: 6000\n",
      "测试集long_mae为2.12180288555268,测试集la_mae为0.9026127257801682,测试集mean_mae为1.5122078056664239\n",
      "当前数据切片是: 8000\n",
      "测试集long_mae为1.8319526436078335,测试集la_mae为0.7991013939767379,测试集mean_mae为1.3155270187922856\n",
      "当前数据切片是: 10000\n",
      "测试集long_mae为1.7417769855024463,测试集la_mae为0.7424912002775226,测试集mean_mae为1.2421340928899844\n"
     ]
    }
   ],
   "source": [
    "data['predict_latitude'],data['predict_longitude'],data['la_MAE'],data['long_MAE'] = 0,0,0,0\n",
    "start,total_time = 0, 0\n",
    "for i in data_item:\n",
    "    print(\"当前数据切片是:\",i)\n",
    "    train_data = original_data.iloc[start:i]\n",
    "    cf_mean_mae,cf_time = train_CF(train_data,test_data)\n",
    "    total_time += cf_time\n",
    "    bits_dic[0].append(cf_mean_mae),times[0].append(total_time)\n",
    "    start += 2000\n"
   ]
  },
  {
   "cell_type": "markdown",
   "metadata": {},
   "source": [
    "### LSH"
   ]
  },
  {
   "cell_type": "code",
   "execution_count": 58,
   "metadata": {},
   "outputs": [
    {
     "name": "stdout",
     "output_type": "stream",
     "text": [
      "当前数据切片是: 2000\n",
      "当前表数为: 0\n",
      "down is 0\n",
      "down is 0\n",
      "down is 0\n",
      "当前表数为: 1\n",
      "down is 0\n",
      "down is 0\n",
      "down is 0\n",
      "down is 0\n",
      "down is 0\n",
      "down is 0\n",
      "down is 0\n",
      "down is 0\n",
      "down is 0\n",
      "down is 0\n",
      "测试集long_mae为3.639017694938999,测试集la_mae为1.6599189828557,测试集mean_mae为2.6494683388973495\n",
      "当前数据切片是: 4000\n",
      "当前表数为: 0\n",
      "down is 0\n",
      "down is 0\n",
      "当前表数为: 1\n",
      "down is 0\n",
      "down is 0\n",
      "down is 0\n",
      "down is 0\n",
      "down is 0\n",
      "测试集long_mae为2.5026599682881003,测试集la_mae为1.1068846190026003,测试集mean_mae为1.8047722936453503\n",
      "当前数据切片是: 6000\n",
      "当前表数为: 0\n",
      "down is 0\n",
      "down is 0\n",
      "当前表数为: 1\n",
      "down is 0\n",
      "down is 0\n",
      "down is 0\n",
      "down is 0\n",
      "down is 0\n",
      "测试集long_mae为1.8900537343649497,测试集la_mae为0.8634494573781003,测试集mean_mae为1.376751595871525\n",
      "当前数据切片是: 8000\n",
      "当前表数为: 0\n",
      "down is 0\n",
      "down is 0\n",
      "当前表数为: 1\n",
      "down is 0\n",
      "down is 0\n",
      "down is 0\n",
      "down is 0\n",
      "down is 0\n",
      "down is 0\n",
      "测试集long_mae为1.5991406724786998,测试集la_mae为0.7306252378568502,测试集mean_mae为1.164882955167775\n",
      "当前数据切片是: 10000\n",
      "当前表数为: 0\n",
      "down is 0\n",
      "down is 0\n",
      "当前表数为: 1\n",
      "down is 0\n",
      "down is 0\n",
      "down is 0\n",
      "测试集long_mae为1.3002948986368001,测试集la_mae为0.5993412983462002,测试集mean_mae为0.9498180984915001\n"
     ]
    }
   ],
   "source": [
    "\n",
    "data['predict_latitude'],data['predict_longitude'],data['la_MAE'],data['long_MAE'] = 0,0,0,0\n",
    "hash_func = lsh_cal.hash_function(num,nbits,d) # hash映射函数\n",
    "start,total_time = 0,0\n",
    "for i in data_item:\n",
    "    print(\"当前数据切片是:\",i)\n",
    "    train_data = original_data.iloc[start:i]\n",
    "    lshTable = lsh_cal.lsh_table(train_data,hash_func,nbits,num) # 构建hash表\n",
    "    te_lshTable = lsh_cal.lsh_table(test_data,hash_func,nbits,num)\n",
    "\n",
    "    lsh_mae,lsh_time = train_LSH(train_data,te_lshTable,lshTable)\n",
    "    total_time += lsh_time\n",
    "    bits_dic[1].append(lsh_mae),times[1].append(total_time)\n",
    "    start += 2000"
   ]
  },
  {
   "cell_type": "markdown",
   "metadata": {},
   "source": [
    "### ELSH"
   ]
  },
  {
   "cell_type": "code",
   "execution_count": 59,
   "metadata": {},
   "outputs": [
    {
     "name": "stdout",
     "output_type": "stream",
     "text": [
      "当前数据切片是: 2000\n",
      "当前表数为: 0\n",
      "down is 0\n",
      "down is 0\n",
      "down is 0\n",
      "当前表数为: 1\n",
      "down is 0\n",
      "down is 0\n",
      "down is 0\n",
      "down is 0\n",
      "down is 0\n",
      "down is 0\n",
      "down is 0\n",
      "down is 0\n",
      "down is 0\n",
      "down is 0\n",
      "测试集long_mae为3.6875608825991995,测试集la_mae为1.675034261745,测试集mean_mae为2.6812975721720997\n",
      "当前数据切片是: 4000\n",
      "当前表数为: 0\n",
      "down is 0\n",
      "down is 0\n",
      "当前表数为: 1\n",
      "down is 0\n",
      "down is 0\n",
      "down is 0\n",
      "down is 0\n",
      "down is 0\n",
      "测试集long_mae为2.5270341948891497,测试集la_mae为1.1144745276216002,测试集mean_mae为1.820754361255375\n",
      "当前数据切片是: 6000\n",
      "当前表数为: 0\n",
      "down is 0\n",
      "down is 0\n",
      "当前表数为: 1\n",
      "down is 0\n",
      "down is 0\n",
      "down is 0\n",
      "down is 0\n",
      "down is 0\n",
      "测试集long_mae为1.9143271716508499,测试集la_mae为0.8710120421710503,测试集mean_mae为1.39266960691095\n",
      "当前数据切片是: 8000\n",
      "当前表数为: 0\n",
      "down is 0\n",
      "down is 0\n",
      "当前表数为: 1\n",
      "down is 0\n",
      "down is 0\n",
      "down is 0\n",
      "down is 0\n",
      "down is 0\n",
      "down is 0\n",
      "测试集long_mae为1.62339388375055,测试集la_mae为0.73818682974645,测试集mean_mae为1.1807903567485\n",
      "当前数据切片是: 10000\n",
      "当前表数为: 0\n",
      "down is 0\n",
      "down is 0\n",
      "当前表数为: 1\n",
      "down is 0\n",
      "down is 0\n",
      "down is 0\n",
      "测试集long_mae为1.3245272858898502,测试集la_mae为0.6068842775105001,测试集mean_mae为0.9657057817001752\n"
     ]
    }
   ],
   "source": [
    "data['predict_latitude'],data['predict_longitude'],data['la_MAE'],data['long_MAE'] = 0,0,0,0\n",
    "start,total_time = 0,0\n",
    "for i in data_item:\n",
    "    print(\"当前数据切片是:\",i)\n",
    "    train_data = original_data.iloc[start:i]\n",
    "    lshTable = lsh_cal.lsh_table(train_data,hash_func,nbits,num) # 构建hash表\n",
    "    te_lshTable = lsh_cal.lsh_table(test_data,hash_func,nbits,num)\n",
    "\n",
    "    lsh_encrypt_mae,lsh_encrypt_time = train_encrypt_LSH(test_data,te_lshTable,lshTable)\n",
    "    total_time += lsh_encrypt_time\n",
    "    bits_dic[2].append(lsh_encrypt_mae),times[2].append(total_time)\n",
    "    start += 2000\n"
   ]
  },
  {
   "cell_type": "markdown",
   "metadata": {},
   "source": [
    "## 绘图"
   ]
  },
  {
   "cell_type": "code",
   "execution_count": 60,
   "metadata": {},
   "outputs": [
    {
     "name": "stdout",
     "output_type": "stream",
     "text": [
      "各个算法的误差为:{0: [2.6950108936050357, 1.831389976139651, 1.5122078056664239, 1.3155270187922856, 1.2421340928899844], 1: [2.6494683388973495, 1.8047722936453503, 1.376751595871525, 1.164882955167775, 0.9498180984915001], 2: [2.6812975721720997, 1.820754361255375, 1.39266960691095, 1.1807903567485, 0.9657057817001752]}\n",
      "各个所用的时间为{0: [412.63876700401306, 806.0924060344696, 1231.407428264618, 1546.1540579795837, 1937.8415942192078], 1: [77.90679788589478, 144.04647731781006, 227.74438452720642, 311.6672673225403, 377.8598804473877], 2: [107.58230686187744, 207.71248483657837, 325.03389406204224, 449.1197953224182, 580.3418517112732]}\n"
     ]
    },
    {
     "data": {
      "image/png": "[encoded data removed]",
      "text/plain": [
       "<Figure size 1224x648 with 2 Axes>"
      ]
     },
     "metadata": {
      "needs_background": "light"
     },
     "output_type": "display_data"
    }
   ],
   "source": [
    "leg = []\n",
    "leg.append(\"CF\"),leg.append(\"LSH\"),leg.append(\"ELSH \")\n",
    "print(\"各个算法的误差为:{0}\\n各个所用的时间为{1}\".format(bits_dic,times))\n",
    "\n",
    "style = [\"*\",\"o\",\"^\",\"s\",\"X\",\"<\",\">\",\"p\",\"h\",\"1\",\"2\"]\n",
    "plt.figure(1 , figsize = (17 , 9) )\n",
    "plt.subplot(121)\n",
    "for i in range(3):\n",
    "    plt.plot(data_item,bits_dic[i],marker=style[i],markersize=14)\n",
    "plt.xlabel(\"数据量\"),plt.ylabel(\"MAE\"),plt.title(\"CF、LSH和ELSH\"),plt.legend(leg)\n",
    "\n",
    "plt.subplot(122)\n",
    "for i in range(3):\n",
    "    plt.plot(data_item,times[i],marker=style[i],markersize=14)\n",
    "plt.xlabel(\"数据量\"),plt.ylabel(\"时间\"),plt.title(\"CF、LSH和ELSH\"),plt.legend(leg)\n",
    "fig=plt.gcf()\n",
    "fig.savefig('../GIS_LSH_VE_CF/picture//CF_LSH_ELSH1.jpg',dpi=500)\n",
    "plt.show()"
   ]
  }
 ],
 "metadata": {
  "kernelspec": {
   "display_name": "Python 3.10.2 64-bit",
   "language": "python",
   "name": "python3"
  },
  "language_info": {
   "codemirror_mode": {
    "name": "ipython",
    "version": 3
   },
   "file_extension": ".py",
   "mimetype": "text/x-python",
   "name": "python",
   "nbconvert_exporter": "python",
   "pygments_lexer": "ipython3",
   "version": "3.10.2"
  },
  "orig_nbformat": 4,
  "vscode": {
   "interpreter": {
    "hash": "ca8ea726348f401b6163fd02c0aeb9cec7418c3ac87845e34ed5fb131bc4795a"
   }
  }
 },
 "nbformat": 4,
 "nbformat_minor": 2
}
