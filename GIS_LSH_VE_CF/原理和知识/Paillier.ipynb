{
 "cells": [
  {
   "cell_type": "markdown",
   "metadata": {},
   "source": [
    "# 前置知识\n",
    "约数\n",
    "\n",
    "![1](picture/1.jpg)\n",
    "\n",
    "GCD：**两个不同时为0的整数α与b的公约数中最大的称为其最大公约数，记作gcd(a，b)。**\n",
    "互质数\n",
    "\n",
    "![2](picture/2.jpg)\n",
    "\n",
    "例如，gcd(24，30)=6，gcd(5，7)=1，gcd(0，9)=9。如果a与b不同时为0，则ged(a，b)是一个在\n",
    "\n",
    "欧几里得法（又叫辗转相除法）\n",
    "思想很简单，\n",
    "```python\n",
    "    while b > 0: # 欧几里得法，又叫辗转相除法\n",
    "        a, b = b, a % b\n",
    "```\n",
    "\n",
    "最小公倍数（Least Common Multiple，LCM）\n",
    "\n",
    "![3](picture/3.jpg)\n",
    "\n",
    "注意：gcd(a,0) = gcd(0,a) = a\n",
    "[参考链接(要开vpn才能访问)](https://asecuritysitecom/encryption/pal_ex)\n",
    "\n",
    "参考书籍：《算法导论》"
   ]
  },
  {
   "cell_type": "markdown",
   "metadata": {},
   "source": [
    "# 密钥生成\n",
    "![4](picture/4.jpg)"
   ]
  },
  {
   "cell_type": "code",
   "execution_count": 1,
   "metadata": {},
   "outputs": [
    {
     "name": "stdout",
     "output_type": "stream",
     "text": [
      "2\n",
      "144\n"
     ]
    }
   ],
   "source": [
    "from random import randint\n",
    "import libnum\n",
    "import sys\n",
    "p=17\n",
    "q=19\n",
    "def gcd(a,b):\n",
    "    '''\n",
    "        最大公约数\n",
    "    '''\n",
    "    while b > 0: # 欧几里得法，又叫辗转相除法\n",
    "        a, b = b, a % b\n",
    "    return a\n",
    "    \n",
    "def lcm(a, b):\n",
    "    '''\n",
    "        最小公倍数\n",
    "    '''\n",
    "    return a * b / gcd(a, b)\n",
    "\n"
   ]
  },
  {
   "cell_type": "markdown",
   "metadata": {},
   "source": [
    "![5](picture/5.jpg)"
   ]
  },
  {
   "cell_type": "markdown",
   "metadata": {},
   "source": [
    " 于是便有公钥(n,g) 私钥(gLamda,gMu)"
   ]
  },
  {
   "cell_type": "code",
   "execution_count": 55,
   "metadata": {},
   "outputs": [
    {
     "data": {
      "text/plain": [
       "230"
      ]
     },
     "execution_count": 55,
     "metadata": {},
     "output_type": "execute_result"
    }
   ],
   "source": [
    "n = p*q\n",
    "g = randint(20,150)\n",
    "gLambda = int(lcm(p-1,q-1))\n",
    "l = (pow(g, gLambda, n*n)-1)//n # 这里是将参数带入的L(x)\n",
    "gMu = libnum.invmod(l, n) # 得到μ\n",
    "gMu"
   ]
  },
  {
   "cell_type": "markdown",
   "metadata": {},
   "source": [
    "![6](picture/6.jpg)"
   ]
  },
  {
   "cell_type": "markdown",
   "metadata": {},
   "source": [
    "m:明文 \n",
    "\n",
    "n:n=p*q，两个大质数乘积\n",
    "\n",
    " r:随机数  \n",
    " \n",
    " g:随机整数"
   ]
  },
  {
   "cell_type": "code",
   "execution_count": 56,
   "metadata": {},
   "outputs": [
    {
     "data": {
      "text/plain": [
       "15867"
      ]
     },
     "execution_count": 56,
     "metadata": {},
     "output_type": "execute_result"
    }
   ],
   "source": [
    "r = randint(20,150)\n",
    "m = 10\n",
    "k1 = pow(g, m, n*n)\n",
    "k2 = pow(r, n, n*n)\n",
    "\n",
    "cipher = (k1 * k2) % (n*n)\n",
    "cipher"
   ]
  },
  {
   "cell_type": "markdown",
   "metadata": {},
   "source": [
    "![7](picture/7.jpg)"
   ]
  },
  {
   "cell_type": "code",
   "execution_count": 57,
   "metadata": {},
   "outputs": [
    {
     "data": {
      "text/plain": [
       "10"
      ]
     },
     "execution_count": 57,
     "metadata": {},
     "output_type": "execute_result"
    }
   ],
   "source": [
    "l = (pow(cipher, gLambda, n*n)-1) // n\n",
    "\n",
    "mess= (l * gMu) % n\n",
    "mess"
   ]
  },
  {
   "cell_type": "markdown",
   "metadata": {},
   "source": [
    "![8](picture/8.jpg)"
   ]
  },
  {
   "cell_type": "markdown",
   "metadata": {},
   "source": [
    "同态加密测试，密文加2"
   ]
  },
  {
   "cell_type": "code",
   "execution_count": 7,
   "metadata": {},
   "outputs": [
    {
     "name": "stdout",
     "output_type": "stream",
     "text": [
      "19\n",
      "不互质\n"
     ]
    }
   ],
   "source": [
    "g = 285 \n",
    "n = 323\n",
    "if (gcd(g,n)==1):\n",
    "\tprint(\"g 和 n*n 互质\")\n",
    "else:\n",
    "\tprint(\"不互质\")"
   ]
  },
  {
   "cell_type": "code",
   "execution_count": 59,
   "metadata": {},
   "outputs": [
    {
     "name": "stdout",
     "output_type": "stream",
     "text": [
      "Result: 12\n"
     ]
    }
   ],
   "source": [
    "\n",
    "m1=2\n",
    "k3 = pow(g, m1, n*n)\n",
    "cipher2 = (k3 * k2) % (n*n)\n",
    "ciphertotal = (cipher* cipher2) % (n*n)\n",
    "\n",
    "l = (pow(ciphertotal, gLambda, n*n)-1) // n\n",
    "mess2= (l * gMu) % n\n",
    "\n",
    "print(\"Result:\",mess2)"
   ]
  },
  {
   "cell_type": "markdown",
   "metadata": {},
   "source": [
    "# 定理证明\n",
    "![9](picture/9.jpg)"
   ]
  },
  {
   "cell_type": "markdown",
   "metadata": {},
   "source": [
    "# 完整代码"
   ]
  },
  {
   "cell_type": "code",
   "execution_count": null,
   "metadata": {},
   "outputs": [],
   "source": [
    "from random import randint\n",
    "import libnum\n",
    "import sys\n",
    "\n",
    "def gcd(a,b):\n",
    "    \"\"\" 最大公约数\"\"\"\n",
    "    while b > 0:\n",
    "        a, b = b, a % b\n",
    "    return a\n",
    "    \n",
    "def lcm(a, b):\n",
    "    \"\"\"最小公倍数\"\"\"\n",
    "    return a * b // gcd(a, b)\n",
    "\n",
    "\n",
    "\n",
    "def L(x,n):\n",
    "\treturn ((x-1)//n)\n",
    "\n",
    "p=17\n",
    "q=19\n",
    "m=10\n",
    "\n",
    "if (len(sys.argv)>1):\n",
    "\tm=int(sys.argv[1])\n",
    "\n",
    "if (len(sys.argv)>2):\n",
    "\tp=int(sys.argv[2])\n",
    "\n",
    "if (len(sys.argv)>3):\n",
    "\tq=int(sys.argv[3])\n",
    "\n",
    "if (p==q):\n",
    "\tprint(\"P and Q cannot be the same\")\n",
    "\tsys.exit()\n",
    "\n",
    "n = p*q\n",
    "\n",
    "gLambda = lcm(p-1,q-1)\n",
    "\n",
    "\n",
    "g = randint(20,150)\n",
    "if (gcd(g,n*n)==1):\n",
    "\tprint(\"g 和 n*n 互质\")\n",
    "else:\n",
    "\tprint(\"WARNING: g 和 n*n 不互质!!!\")\n",
    "\n",
    "r = randint(20,150)\n",
    "\n",
    "\n",
    "l = (pow(g, gLambda, n*n)-1)//n\n",
    "gMu = libnum.invmod(l, n)\n",
    "\n",
    "k1 = pow(g, m, n*n)\n",
    "k2 = pow(r, n, n*n)\n",
    "cipher = (k1 * k2) % (n*n)\n",
    "l = (pow(cipher, gLambda, n*n)-1) // n\n",
    "\n",
    "mess= (l * gMu) % n\n",
    "\n",
    "print(\"p=\",p,\"\\tq=\",q)\n",
    "print(\"g=\",g,\"\\tr=\",r)\n",
    "print(\"================\")\n",
    "print(\"Mu:\\t\\t\",gMu,\"\\tgLambda:\\t\",gLambda)\n",
    "print(\"================\")\n",
    "print(\"公钥 (n,g):\\t\\t\",n,g)\n",
    "print(\"私钥 (lambda,mu):\\t\",gLambda,gMu)\n",
    "print(\"================\")\n",
    "print(\"明文:\\t\",mess)\n",
    "\n",
    "print(\"密文:\\t\\t\",cipher)\n",
    "print(\"解密后的密文:\\t\",mess)\n",
    "\n",
    "print(\"================\")\n",
    "print(\"进行同态加密，原有基础上加2\")\n",
    "\n",
    "\n",
    "m1=2\n",
    "\n",
    "k3 = pow(g, m1, n*n)\n",
    "\n",
    "cipher2 = (k3 * k2) % (n*n)\n",
    "\n",
    "ciphertotal = (cipher* cipher2) % (n*n)\n",
    "\n",
    "l = (pow(ciphertotal, gLambda, n*n)-1) // n\n",
    "\n",
    "mess2= (l * gMu) % n\n",
    "\n",
    "print(\"Result:\\t\\t\",mess2)"
   ]
  },
  {
   "cell_type": "markdown",
   "metadata": {},
   "source": [
    "# 封装成类"
   ]
  },
  {
   "cell_type": "code",
   "execution_count": null,
   "metadata": {},
   "outputs": [],
   "source": [
    "from random import randint\n",
    "import libnum\n",
    "import sys\n",
    "import numpy as np\n",
    "\n",
    "class Pallier:\n",
    "    def __init__(self) -> None:\n",
    "        \"\"\" 为了防止不互质的情况出现，这里参数都手动设置，而不是随机值,注意：要加密的信息越长，质数就越大\"\"\"\n",
    "        self.p=9967\n",
    "        self.q=9973\n",
    "        self.g = 1753\n",
    "        self.r = 2677\n",
    "        self.n = self.p*self.q\n",
    "\n",
    "    def gcd(self,a,b):\n",
    "        \"\"\" 最大公约数\"\"\"\n",
    "        while b > 0:\n",
    "            a, b = b, a % b\n",
    "        return a\n",
    "        \n",
    "    def lcm(self,a, b):\n",
    "        \"\"\"最小公倍数\"\"\"\n",
    "        return a * b // self.gcd(a, b)\n",
    "\n",
    "    def public_key(self):\n",
    "        \"\"\" 公钥(n,g) \"\"\"\n",
    "        return self.n,self.g\n",
    "\n",
    "    def condition(self):\n",
    "        if (self.gcd(self.g,self.n*self.n)==1):\n",
    "            print(\"g 和 n*n 互质\")\n",
    "        else:\n",
    "            print(\"WARNING: g 和 n*n 不互质!!!\")\n",
    "            print(\"不互质此时结果不对!!!\")\n",
    "        if (self.gcd(self.l,self.n)==1):\n",
    "            print(\"l 和 n 互质\")\n",
    "        else:\n",
    "            print(\"WARNING:l和n不互质,此时程序会报错\")\n",
    "\n",
    "    def private_key(self):\n",
    "        \"\"\" 私钥(gLamda,gMu) \"\"\"\n",
    "        gLambda = int(self.lcm(self.p-1,self.q-1))\n",
    "        self.l = (pow(self.g, gLambda, self.n*self.n)-1)//self.n # 这里是将参数带入的L(x)\n",
    "        self.condition()\n",
    "        gMu = libnum.invmod(self.l, self.n) # 得到μ\n",
    "        return gLambda,gMu\n",
    "\n",
    "    # def mx_encrypt(self,mx):\n",
    "    #     mx_g = np.zeros([2,mx.shape[1]])\n",
    "    #     mx_n = np.zeros([2,mx.shape[1]])\n",
    "    #     k1 = np.zeros([2,mx.shape[1]])\n",
    "    #     k1 = \n",
    "\n",
    "    def encrypt(self,m):\n",
    "        \"\"\" 公钥进行加密。m为明文,返回密文 \"\"\"\n",
    "        k1 = pow(self.g, m, self.n*self.n) # g^m%(n^2)\n",
    "        self.k2 = pow(self.r, self.n, self.n*self.n)\n",
    "        cipher = (k1 * self.k2) % (self.n*self.n)\n",
    "        return cipher\n",
    "\n",
    "    def decrypt(self,cipher,gLambda,gMu):\n",
    "        \"\"\" 私钥进行解密。输入密文和私钥，返回明文 \"\"\"\n",
    "        l = (pow(cipher, gLambda, self.n*self.n)-1) // self.n\n",
    "        mess= (l * gMu) % self.n\n",
    "        return mess\n",
    "\n",
    "    def add_homo(self,cipher,m1,gLambda,gMu):\n",
    "        k3 = pow(self.g,m1,self.n*self.n)\n",
    "        cipher2 = (k3 * self.k2) % (self.n*self.n)\n",
    "        ciphertotal = (cipher* cipher2) % (self.n*self.n)\n",
    "        l = (pow(ciphertotal, gLambda, self.n*self.n)-1) // self.n\n",
    "        mess2= (l * gMu) % self.n\n",
    "        return mess2\n",
    "\n",
    "    def cout(self,gLambda,gMu,cipher,mess,m1):     \n",
    "        print(\"p=\",self.p,\"\\tq=\",self.q)\n",
    "        print(\"g=\",self.g,\"\\tr=\",self.r)\n",
    "        print(\"================\")\n",
    "        print(\"Mu:\\t\\t\",gMu,\"\\tgLambda:\\t\",gLambda)\n",
    "        print(\"================\")\n",
    "        print(\"公钥 (n,g):\\t\\t\",self.n,self.g)\n",
    "        print(\"私钥 (lambda,mu):\\t\",gLambda,gMu)\n",
    "        print(\"================\")\n",
    "        print(\"明文:\\t\",mess)\n",
    "\n",
    "        print(\"密文:\\t\\t\",cipher)\n",
    "        print(\"解密后的密文:\\t\",mess)\n",
    "\n",
    "        print(\"================\")\n",
    "        print(\"进行同态加密，原有基础上加\",m1)\n",
    "\n",
    "if __name__ == \"__main__\":\n",
    "    test = Pallier()\n",
    "    m = 8800000\n",
    "    gLambda,gMu = test.private_key()\n",
    "    cipher = test.encrypt(m)\n",
    "    mess = test.decrypt(cipher,gLambda,gMu)\n",
    "    m1 = 2000000\n",
    "    test.cout(gLambda,gMu,cipher,mess,m1)\n",
    "    mess1 = test.add_homo(cipher,m1,gLambda,gMu)\n",
    "    test.condition()\n",
    "    print(\"Result:\\t\\t\",mess1)"
   ]
  },
  {
   "cell_type": "markdown",
   "metadata": {},
   "source": [
    "# 对矩阵进行操作"
   ]
  },
  {
   "cell_type": "code",
   "execution_count": 70,
   "metadata": {},
   "outputs": [
    {
     "name": "stdout",
     "output_type": "stream",
     "text": [
      "[[ 2990873.2]\n",
      " [-9542257.5]]\n"
     ]
    }
   ],
   "source": [
    "import numpy as np\n",
    "user1Items1 = np.array([\n",
    "         np.array([ 0.29908732,-0.95422575])\n",
    "        ])\n",
    "\n",
    "user2Items1 = np.array([\n",
    "             np.array([ 0.219908732,-0.95422575])\n",
    "            ])\n",
    "\n",
    "user1Items1_tem = user1Items1.T\n",
    "user1Items1_tem = user1Items1_tem*1e+7\n",
    "user1Items1_tem = user1Items1_tem.astype(np.float64)\n",
    "print(user1Items1_tem)\n",
    "\n",
    "user1Items2_tem = user2Items1.T\n",
    "user1Items2_tem = user1Items2_tem*1e+7\n",
    "user1Items2_tem = user1Items2_tem.astype(np.float64)\n",
    "p=9967\n",
    "q=9973\n",
    "g = 1753\n",
    "r = 2677\n",
    "n = p*q\n"
   ]
  },
  {
   "cell_type": "markdown",
   "metadata": {},
   "source": [
    "# Pallier算法慢的原因：\n",
    "每个数字的密钥都是单独的，k1 = pow(g, m, n*n)，m为明文，m不同，k1就不同，所以矩阵的每个元素都要单独计算公钥，而使用np会溢出，直接使用Pow计算又只能使用遍历，其复杂度过高"
   ]
  },
  {
   "cell_type": "code",
   "execution_count": null,
   "metadata": {},
   "outputs": [],
   "source": [
    "# 生成公钥\n",
    "k1 = pow(g, m, n*n)\n",
    "k2 = pow(r, n, n*n)\n",
    "cipher = (k1 * k2) % (n*n)"
   ]
  },
  {
   "cell_type": "code",
   "execution_count": null,
   "metadata": {},
   "outputs": [],
   "source": [
    "def private_key():\n",
    "    \"\"\" 私钥(gLamda,gMu) \"\"\"\n",
    "    gLambda = int(lcm(p-1,q-1))\n",
    "    l = (pow(g, gLambda, n*n)-1)//n # 这里是将参数带入的L(x)\n",
    "    gMu = libnum.invmod(l, n) # 得到μ\n",
    "    return gLambda,gMu"
   ]
  },
  {
   "cell_type": "markdown",
   "metadata": {},
   "source": [
    "## 方案一：失败\n",
    "直接使用矩阵计算密文\n",
    "mx_k1 = np.power(mx_g,user1Items1_tem)%(n*n)\n",
    "1868277117.py:1: RuntimeWarning: overflow encountered in power \n",
    "numpy矩阵溢出，尝试了幂模运算，失败"
   ]
  },
  {
   "cell_type": "code",
   "execution_count": 67,
   "metadata": {},
   "outputs": [
    {
     "data": {
      "text/plain": [
       "126172012849"
      ]
     },
     "execution_count": 67,
     "metadata": {},
     "output_type": "execute_result"
    }
   ],
   "source": [
    "mx_g = np.full([2,user1Items1_tem.shape[1]],g).astype(np.float64)\n",
    "mx_n = n*n\n",
    "mx_n"
   ]
  },
  {
   "cell_type": "code",
   "execution_count": 68,
   "metadata": {},
   "outputs": [
    {
     "data": {
      "text/plain": [
       "array([[223.],\n",
       "       [223.]])"
      ]
     },
     "execution_count": 68,
     "metadata": {},
     "output_type": "execute_result"
    }
   ],
   "source": [
    "mx_g"
   ]
  },
  {
   "cell_type": "code",
   "execution_count": 53,
   "metadata": {},
   "outputs": [
    {
     "data": {
      "text/plain": [
       "48495062761"
      ]
     },
     "execution_count": 53,
     "metadata": {},
     "output_type": "execute_result"
    }
   ],
   "source": [
    "k1 = pow(g, 299, n*n)\n",
    "k1"
   ]
  },
  {
   "cell_type": "code",
   "execution_count": 38,
   "metadata": {},
   "outputs": [
    {
     "data": {
      "text/plain": [
       "array([[ 2990873],\n",
       "       [-9542257]])"
      ]
     },
     "execution_count": 38,
     "metadata": {},
     "output_type": "execute_result"
    }
   ],
   "source": [
    "user1Items1_tem"
   ]
  },
  {
   "cell_type": "code",
   "execution_count": 54,
   "metadata": {},
   "outputs": [],
   "source": [
    "mx_k1 = np.full([2,user1Items1_tem.shape[1]],g).astype(np.float64)"
   ]
  },
  {
   "cell_type": "code",
   "execution_count": 69,
   "metadata": {},
   "outputs": [
    {
     "name": "stderr",
     "output_type": "stream",
     "text": [
      "C:\\Users\\zwt\\AppData\\Local\\Temp\\ipykernel_8404\\1868277117.py:1: RuntimeWarning: overflow encountered in power\n",
      "  mx_k1 = np.power(mx_g,user1Items1_tem)%(n*n)\n",
      "C:\\Users\\zwt\\AppData\\Local\\Temp\\ipykernel_8404\\1868277117.py:1: RuntimeWarning: invalid value encountered in remainder\n",
      "  mx_k1 = np.power(mx_g,user1Items1_tem)%(n*n)\n"
     ]
    }
   ],
   "source": [
    "mx_k1 = np.power(mx_g,user1Items1_tem)%(n*n)"
   ]
  },
  {
   "cell_type": "code",
   "execution_count": 43,
   "metadata": {},
   "outputs": [
    {
     "data": {
      "text/plain": [
       "array([[nan],\n",
       "       [ 0.]])"
      ]
     },
     "execution_count": 43,
     "metadata": {},
     "output_type": "execute_result"
    }
   ],
   "source": [
    "mx_k1"
   ]
  },
  {
   "cell_type": "markdown",
   "metadata": {},
   "source": [
    "# 方案二\n",
    "单独计算，然后放入矩阵内"
   ]
  }
 ],
 "metadata": {
  "kernelspec": {
   "display_name": "Python 3.10.2 64-bit",
   "language": "python",
   "name": "python3"
  },
  "language_info": {
   "codemirror_mode": {
    "name": "ipython",
    "version": 3
   },
   "file_extension": ".py",
   "mimetype": "text/x-python",
   "name": "python",
   "nbconvert_exporter": "python",
   "pygments_lexer": "ipython3",
   "version": "3.10.2"
  },
  "orig_nbformat": 4,
  "vscode": {
   "interpreter": {
    "hash": "ca8ea726348f401b6163fd02c0aeb9cec7418c3ac87845e34ed5fb131bc4795a"
   }
  }
 },
 "nbformat": 4,
 "nbformat_minor": 2
}
