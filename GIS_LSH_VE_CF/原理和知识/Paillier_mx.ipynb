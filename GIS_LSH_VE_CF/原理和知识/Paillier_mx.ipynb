{
 "cells": [
  {
   "cell_type": "code",
   "execution_count": null,
   "metadata": {},
   "outputs": [],
   "source": [
    "from random import randint\n",
    "import libnum\n",
    "import sys\n",
    "p=17\n",
    "q=19\n",
    "def gcd(a,b):\n",
    "    '''\n",
    "        最大公约数\n",
    "    '''\n",
    "    while b > 0: # 欧几里得法，又叫辗转相除法\n",
    "        a, b = b, a % b\n",
    "    return a\n",
    "    \n",
    "def lcm(a, b):\n",
    "    '''\n",
    "        最小公倍数\n",
    "    '''\n",
    "    return a * b / gcd(a, b)"
   ]
  },
  {
   "cell_type": "code",
   "execution_count": null,
   "metadata": {},
   "outputs": [],
   "source": [
    "n = p*q\n",
    "g = randint(20,150)\n",
    "gLambda = int(lcm(p-1,q-1))\n",
    "l = (pow(g, gLambda, n*n)-1)//n # 这里是将参数带入的L(x)\n",
    "gMu = libnum.invmod(l, n) # 得到μ\n",
    "gMu"
   ]
  },
  {
   "cell_type": "code",
   "execution_count": null,
   "metadata": {},
   "outputs": [],
   "source": [
    "r = randint(20,150)\n",
    "m = 10\n",
    "k1 = pow(g, m, n*n)\n",
    "k2 = pow(r, n, n*n)\n",
    "\n",
    "cipher = (k1 * k2) % (n*n)\n",
    "cipher"
   ]
  },
  {
   "cell_type": "code",
   "execution_count": null,
   "metadata": {},
   "outputs": [],
   "source": [
    "l = (pow(cipher, gLambda, n*n)-1) // n\n",
    "\n",
    "mess= (l * gMu) % n\n",
    "mess"
   ]
  }
 ],
 "metadata": {
  "language_info": {
   "name": "python"
  },
  "orig_nbformat": 4
 },
 "nbformat": 4,
 "nbformat_minor": 2
}
