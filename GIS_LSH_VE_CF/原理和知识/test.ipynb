{
 "cells": [
  {
   "cell_type": "code",
   "execution_count": 9,
   "metadata": {},
   "outputs": [
    {
     "name": "stdout",
     "output_type": "stream",
     "text": [
      "10\n"
     ]
    }
   ],
   "source": [
    "from random import randint\n",
    "import libnum\n",
    "import sys\n",
    "\n",
    "def gcd(a,b):\n",
    "    \"\"\" 最大公约数\"\"\"\n",
    "    while b > 0:\n",
    "        a, b = b, a % b\n",
    "    return a\n",
    "    \n",
    "def lcm(a, b):\n",
    "    \"\"\"最小公倍数\"\"\"\n",
    "    return a * b // gcd(a, b)\n",
    "\n",
    "p=17\n",
    "q=19\n",
    "m=10\n",
    "\n",
    "\n",
    "n = p*q\n",
    "\n",
    "gLambda = lcm(p-1,q-1)\n",
    "\n",
    "\n",
    "g = randint(20,150)\n",
    "r = randint(20,150)\n",
    "\n",
    "\n",
    "l = (pow(g, gLambda, n*n)-1)//n\n",
    "gMu = libnum.invmod(l, n)\n",
    "\n",
    "\n",
    "\n",
    "k1 = pow(g, m, n*n)\n",
    "k2 = pow(r, n, n*n)\n",
    "\n",
    "\n",
    "cipher = (k1 * k2) % (n*n)\n",
    "\n",
    "\n",
    "l = (pow(cipher, gLambda, n*n)-1) // n\n",
    "\n",
    "mess= (l * gMu) % n\n",
    "print(mess)"
   ]
  }
 ],
 "metadata": {
  "kernelspec": {
   "display_name": "Python 3.10.2 64-bit",
   "language": "python",
   "name": "python3"
  },
  "language_info": {
   "codemirror_mode": {
    "name": "ipython",
    "version": 3
   },
   "file_extension": ".py",
   "mimetype": "text/x-python",
   "name": "python",
   "nbconvert_exporter": "python",
   "pygments_lexer": "ipython3",
   "version": "3.10.2"
  },
  "orig_nbformat": 4,
  "vscode": {
   "interpreter": {
    "hash": "ca8ea726348f401b6163fd02c0aeb9cec7418c3ac87845e34ed5fb131bc4795a"
   }
  }
 },
 "nbformat": 4,
 "nbformat_minor": 2
}
